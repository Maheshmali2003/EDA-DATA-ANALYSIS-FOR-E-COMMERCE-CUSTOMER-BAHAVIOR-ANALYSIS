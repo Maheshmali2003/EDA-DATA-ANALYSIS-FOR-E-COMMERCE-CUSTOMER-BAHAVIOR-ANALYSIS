{
 "cells": [
  {
   "cell_type": "markdown",
   "id": "446eaf92",
   "metadata": {},
   "source": [
    "# Exploratory Data Analysis for E-commerce Customer Behavior Analysis "
   ]
  },
  {
   "cell_type": "markdown",
   "id": "24b11586",
   "metadata": {},
   "source": [
   
   ]
  },
  {
   "cell_type": "code",
   "execution_count": null,
   "id": "698ed6a3",
   "metadata": {},
   "outputs": [],
   "source": [
    "import os\n",
    "import pandas as pd\n",
    "import numpy as np\n",
    "import matplotlib.pyplot as plt\n",
    "import seaborn as sns\n",
    "import plotly.express as px\n",
    "from scipy.stats import iqr\n",
    "from sklearn.preprocessing import StandardScaler\n",
    "from sklearn.cluster import KMeans"
   ]
  },
  {
   "cell_type": "markdown",
   "id": "1140f28c",
   "metadata": {},
   "source": [
    "# 1.\tData Loading and Preliminary Exploration:"
   ]
  },
  {
   "cell_type": "code",
   "execution_count": null,
   "id": "22f29610",
   "metadata": {},
   "outputs": [],
   "source": [
    "# Step 1: Data Loading and Preliminary Exploration\n",
    "import pandas as pd\n",
    "df = pd.read_csv('Ecommercedataset.csv', encoding='ISO-8859-1',parse_dates=['InvoiceDate'])\n"
   ]
  },
  {
   "cell_type": "code",
   "execution_count": null,
   "id": "48bfd50b",
   "metadata": {},
   "outputs": [],
   "source": [
    "df.head(2)"
   ]
  },
  {
   "cell_type": "code",
   "execution_count": null,
   "id": "9efade1a",
   "metadata": {},
   "outputs": [],
   "source": [
    "#find each data type whicgh type\n",
    "df.dtypes"
   ]
  },
  {
   "cell_type": "code",
   "execution_count": null,
   "id": "689344f9",
   "metadata": {},
   "outputs": [],
   "source": [
    "df=df[['CustomerID','InvoiceNo','StockCode','Quantity','UnitPrice','Description','InvoiceDate','Country']]\n"
   ]
  },
  {
   "cell_type": "code",
   "execution_count": null,
   "id": "bf058eb9",
   "metadata": {},
   "outputs": [],
   "source": [
    "df.head()"
   ]
  },
  {
   "cell_type": "code",
   "execution_count": null,
   "id": "fa04bfea",
   "metadata": {},
   "outputs": [],
   "source": [
    "## Convert columns to appropriate data types example date:\n",
    "df.info()"
   ]
  },
  {
   "cell_type": "code",
   "execution_count": null,
   "id": "d501b6ab",
   "metadata": {},
   "outputs": [],
   "source": [
    "#how many rows and columns in dataset\n",
    "len(df.columns)\n"
   ]
  },
  {
   "cell_type": "markdown",
   "id": "38b7d764",
   "metadata": {},
   "source": [
    "# 2.\tData Cleaning and Preprocessing\n"
   ]
  },
  {
   "cell_type": "code",
   "execution_count": null,
   "id": "754c9c26",
   "metadata": {},
   "outputs": [],
   "source": [
    "#cheack null values in dataset\n",
    "df.isnull().sum()"
   ]
  },
  {
   "cell_type": "markdown",
   "id": "e4eb44e9",
   "metadata": {},
   "source": [
    "# 1.based on understanding of the data,what kind of business in this company in?"
   ]
  },
  {
   "cell_type": "raw",
   "id": "5bd30b16",
   "metadata": {},
   "source": [
    "as the same suggest this company is more info online retail across 38 like: countries\n"
   ]
  },
  {
   "cell_type": "markdown",
   "id": "1ef44ff3",
   "metadata": {},
   "source": [
    "# 2. Analyze the sales performance of this comapny,and provide your insights regarding the same business."
   ]
  },
  {
   "cell_type": "code",
   "execution_count": null,
   "id": "be5ca88e",
   "metadata": {},
   "outputs": [],
   "source": [
    "TotaleAmount = df['Quantity'] * df['UnitPrice']\n",
    "df.insert(loc=5,column='TotaleAmount',value='TotaleAmount')"
   ]
  },
  {
   "cell_type": "code",
   "execution_count": null,
   "id": "2d5e6f46",
   "metadata": {},
   "outputs": [],
   "source": [
    "New_df = df[['CustomerID','InvoiceNo','StockCode','Quantity','UnitPrice','Description','InvoiceDate','Country']]\n",
    "New_df = df.copy()"
   ]
  },
  {
   "cell_type": "code",
   "execution_count": null,
   "id": "1219faa3",
   "metadata": {},
   "outputs": [],
   "source": [
    "New_df.head()"
   ]
  },
  {
   "cell_type": "markdown",
   "id": "1b2873e1",
   "metadata": {},
   "source": [
    "# Exploratory Data Analysis(EDA)"
   ]
  },
  {
   "cell_type": "code",
   "execution_count": null,
   "id": "75521896",
   "metadata": {},
   "outputs": [],
   "source": [
    "Country_Price = New_df.groupby('Country')['Quantity'].sum().sort_values(ascending = False)\n",
    "Country_Price"
   ]
  },
  {
   "cell_type": "code",
   "execution_count": null,
   "id": "478846b5",
   "metadata": {},
   "outputs": [],
   "source": [
    "#Top 5 cpmpanys with high number of purchase\n",
    "Country_Price[:5].plot(kind = 'bar')"
   ]
  },
  {
   "cell_type": "code",
   "execution_count": null,
   "id": "67287c59",
   "metadata": {},
   "outputs": [],
   "source": [
    "#5 comanys list of purchase\n",
    "Country_Price[33:].plot(kind = 'bar')"
   ]
  },
  {
   "cell_type": "code",
   "execution_count": null,
   "id": "0bb9af4e",
   "metadata": {},
   "outputs": [],
   "source": [
    "# Adding your features to the dataset\n",
    "\n",
    "timest = New_df['InvoiceDate'].dt.year\n",
    "New_df['year'] = timest\n",
    "New_df.head()"
   ]
  },
  {
   "cell_type": "code",
   "execution_count": null,
   "id": "31842b99",
   "metadata": {},
   "outputs": [],
   "source": [
    "# Totle sales for differnet years\n",
    "\n",
    "New_df.groupby('year')['TotaleAmount'].sum().plot(kind = 'bar')\n"
   ]
  },
  {
   "cell_type": "code",
   "execution_count": null,
   "id": "c0184bae",
   "metadata": {},
   "outputs": [],
   "source": [
    "# Sales for different months\n",
    "\n",
    "New_df['mon'] = New_df['InvoiceDate'].dt.month\n",
    "New_df['month'] = New_df['InvoiceDate'].df.month_name()\n",
    "Nwe_df.groupby(['mon','year'])['TotaleAmount'].sum().plot(kind = 'bar'), title = 'Sales month wise')\n"
   ]
  },
  {
   "cell_type": "code",
   "execution_count": null,
   "id": "bd179307",
   "metadata": {},
   "outputs": [],
   "source": [
    "#cheacking why dec 2011 has a drop comparing to nov 2011\n",
    "get_2011 = New_df[(New_df['year'])] ==2011)]\n",
    "get_dec2011 = New_dec2011[(New_df['month'] == 'December')]\n",
    "get_dec2011 = New_dec2011[(New_df['InvoiceDate'].dt.data.Unique()\n",
    "print(get_dec2011)\n",
    "                           "
   ]
  },
  {
   "cell_type": "raw",
   "id": "bf2285b7",
   "metadata": {},
   "source": [
    "array([datetime.date(2011, 12, 1), datetime.date(2011, 12, 2),\n",
    "       datetime.date(2011, 12, 4), datetime.date(2011, 12, 5),\n",
    "       datetime.date(2011, 12, 6), datetime.date(2011, 12, 7),\n",
    "       datetime.date(2011, 12, 8), datetime.date(2011, 12, 9)])\n"
   ]
  },
  {
   "cell_type": "markdown",
   "id": "fbeb5bf9",
   "metadata": {},
   "source": [
    "# Answar:"
   ]
  },
  {
   "cell_type": "markdown",
   "id": "9d72104b",
   "metadata": {},
   "source": [
    "# performance analysis\n",
    "sales performance van be seen with\n",
    "\n",
    "1.number of sales every month.\n",
    "\n",
    "2.number of sales every year.\n",
    "\n",
    "3.we can see that in 2010 we have sales only for dec and in 2011 we have sales for all months.\n",
    "\n",
    "4.we can see that form septmber to november we have very good sales.\n",
    "\n",
    "5.we can see that dec 2010 we have sales of 788957 and in dec 2011 we have sales of 433668 which is huge drop when analyzed further found\n",
    "out that we have only data upto 9th on dec 2011,so we find a sleep drop in the month of dec 2011."
   ]
  },
  {
   "cell_type": "markdown",
   "id": "ae049cf3",
   "metadata": {},
   "source": [
    "# 3. Based on your analysis of the data,what are potational areas of improvement for the business?\n"
   ]
  },
  {
   "cell_type": "code",
   "execution_count": null,
   "id": "83580df9",
   "metadata": {},
   "outputs": [],
   "source": [
    "New_df.head()"
   ]
  },
  {
   "cell_type": "code",
   "execution_count": null,
   "id": "70508445",
   "metadata": {},
   "outputs": [],
   "source": [
    "New_df = New_df.dropna()\n",
    "New_df.isnull().sum()"
   ]
  },
  {
   "cell_type": "code",
   "execution_count": null,
   "id": "0e4f7665",
   "metadata": {},
   "outputs": [],
   "source": [
    "#countries with the most numbers customerce\n",
    "cuto_id = pd.DataFrame(New_df.groupby('Country')['CustomerID'].count().sort_values(ascending = False))\n",
    "cuto_id[:5].plot(kind = 'bar', title = 'most Customer for country')"
   ]
  },
  {
   "cell_type": "code",
   "execution_count": null,
   "id": "bebed670",
   "metadata": {},
   "outputs": [],
   "source": [
    "#countries with less number of customers\n",
    "cuto_id[-5:].plot(kind = 'bar', title = 'least customers for country')"
   ]
  },
  {
   "cell_type": "markdown",
   "id": "fcb7cc09",
   "metadata": {},
   "source": [
    "# Answar-\n",
    "1.we see that septmber to december we have very high sales.\n",
    "\n",
    "2.we can concentrate on improvinng the sales for the other 8 months.\n",
    "\n",
    "3.we find very less number of customers in Lithania,Brazil,czec Republic,Bahrain,Saudi Arbia.\n",
    "\n",
    "4.we have very less sales for Lithania,Brazil,czec Republic,Bahrain,Saudi Arbia.we cuncentrate on improving their sales.\n",
    "\n"
   ]
  },
  {
   "cell_type": "markdown",
   "id": "ea9271d6",
   "metadata": {},
   "source": [
    "we could improve the business by increasing the customerces and sales point of view\n"
   ]
  },
  {
   "cell_type": "markdown",
   "id": "56dc1104",
   "metadata": {},
   "source": [
    "# 4.What is additional business problems that can analyzed using this data.Support with explaination."
   ]
  },
  {
   "cell_type": "code",
   "execution_count": null,
   "id": "05974589",
   "metadata": {},
   "outputs": [],
   "source": [
    "#removing the null values since we are cheacking the data based on customerce and description\n",
    "\n",
    "New_df2 = New_df2.dropna()\n",
    "New_df2.isnull().sum()\n",
    "New_df2.head()"
   ]
  },
  {
   "cell_type": "code",
   "execution_count": null,
   "id": "3173013b",
   "metadata": {},
   "outputs": [],
   "source": [
    "#Sales avarage of each product\n",
    "\n",
    "avg_sales = New_df2.groupby(['StockCode','Description'])['Quantity','TotaleAmount'].mean().sort_values(by = 'Quantity',ascending = False)\n",
    "avg_sales\n"
   ]
  },
  {
   "cell_type": "markdown",
   "id": "b82f71bc",
   "metadata": {},
   "source": [
    "# Answar-\n",
    "1.we can see the demand for each product.\n",
    "\n",
    "2.we can further cheack month wise on which product is on more demand for which month.if there is any seasonability for the product.\n",
    "\n",
    "3.further deeper analysis can carried out customerce wise."
   ]
  }
 ],
 "metadata": {
  "kernelspec": {
   "display_name": "Python 3 (ipykernel)",
   "language": "python",
   "name": "python3"
  },
  "language_info": {
   "codemirror_mode": {
    "name": "ipython",
    "version": 3
   },
   "file_extension": ".py",
   "mimetype": "text/x-python",
   "name": "python",
   "nbconvert_exporter": "python",
   "pygments_lexer": "ipython3",
   "version": "3.11.3"
  }
 },
 "nbformat": 4,
 "nbformat_minor": 5
}
